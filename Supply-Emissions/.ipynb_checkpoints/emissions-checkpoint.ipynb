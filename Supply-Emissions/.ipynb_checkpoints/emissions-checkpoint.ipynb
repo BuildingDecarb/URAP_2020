{
 "cells": [
  {
   "cell_type": "code",
   "execution_count": 280,
   "metadata": {},
   "outputs": [],
   "source": [
    "import pandas as pd"
   ]
  },
  {
   "cell_type": "code",
   "execution_count": 281,
   "metadata": {},
   "outputs": [],
   "source": [
    "months = {1: \"01\",\n",
    "          2: \"02\",\n",
    "          3: \"03\",\n",
    "          4: \"04\",\n",
    "          5: \"05\",\n",
    "          6: \"06\",\n",
    "          7: \"07\",\n",
    "          8: \"08\",\n",
    "          9: \"09\",\n",
    "          10: \"10\",\n",
    "          11: \"11\",\n",
    "          12: \"12\"}\n",
    "\n",
    "days_in_month = {1: 31,\n",
    "                 2: 28,\n",
    "                 3: 31,\n",
    "                 4: 30,\n",
    "                 5: 31,\n",
    "                 6: 30,\n",
    "                 7: 31,\n",
    "                 8: 31,\n",
    "                 9: 30,\n",
    "                 10: 31,\n",
    "                 11: 30,\n",
    "                 12: 31}\n",
    "\n",
    "days_to_str = {1: \"01\",\n",
    "               2: \"02\",\n",
    "               3: \"03\",\n",
    "               4: \"04\",\n",
    "               5: \"05\",\n",
    "               6: \"06\",\n",
    "               7: \"07\",\n",
    "               8: \"08\",\n",
    "               9: \"09\",\n",
    "               10: \"10\",\n",
    "               11: \"11\",\n",
    "               12: \"12\",\n",
    "               13: \"13\",\n",
    "               14: \"14\",\n",
    "               15: \"15\",\n",
    "               16: \"16\",\n",
    "               17: \"17\",\n",
    "               18: \"18\",\n",
    "               19: \"19\",\n",
    "               20: \"20\",\n",
    "               21: \"21\",\n",
    "               22: \"22\",\n",
    "               23: \"23\",\n",
    "               24: \"24\",\n",
    "               25: \"25\",\n",
    "               26: \"26\",\n",
    "               27: \"27\",\n",
    "               28: \"28\",\n",
    "               29: \"29\",\n",
    "               30: \"30\",\n",
    "               31: \"31\"}"
   ]
  },
  {
   "cell_type": "code",
   "execution_count": 282,
   "metadata": {},
   "outputs": [],
   "source": [
    "# Convert mT to mmT\n",
    "\n",
    "def m_to_mm(m):\n",
    "    return m / 1000000"
   ]
  },
  {
   "cell_type": "code",
   "execution_count": 283,
   "metadata": {},
   "outputs": [],
   "source": [
    "# Calculates the average emission per hour on a given day\n",
    "\n",
    "def get_emissions_hour_range(curr_year, curr_month, day, st_hour = 1, end_hour = 24):\n",
    "    \n",
    "    month = months[curr_month]\n",
    "    day_total = 0\n",
    "    \n",
    "    curr_day_supply = pd.read_csv(\"CAISO-co2-\" + curr_year + month + days_to_str[day] + \".csv\")\n",
    "    curr_day_supply = curr_day_supply.fillna(0)\n",
    "    \n",
    "    for i in range(st_hour, (end_hour + 1), 11): # Iterates through the start of every hour -- 1 to 24\n",
    "        day_total += curr_day_supply.iloc[0, i * 12] \n",
    "    \n",
    "    return m_to_mm(day_total) / end_hour"
   ]
  },
  {
   "cell_type": "code",
   "execution_count": 284,
   "metadata": {},
   "outputs": [],
   "source": [
    "# Calculates the average emission per day\n",
    "\n",
    "def get_emissions_day_range(curr_year, curr_month, num_days):\n",
    "    \n",
    "    total = 0\n",
    "    start = 1\n",
    "   \n",
    "    for i in range(start, num_days + 1):\n",
    "        total += get_emissions_hour_range(curr_year, curr_month, i) # Will just do the whole day\n",
    "        \n",
    "    return total / num_days"
   ]
  },
  {
   "cell_type": "code",
   "execution_count": 285,
   "metadata": {},
   "outputs": [],
   "source": [
    "# Calculates the average emission per month\n",
    "\n",
    "def get_emissions_month_range(curr_year, st_month, end_month):\n",
    "    \n",
    "    total = 0\n",
    "    num_months = 0\n",
    "    \n",
    "    for i in range(st_month, end_month + 1):\n",
    "        total += get_emissions_day_range(curr_year, i, days_in_month[i]) # Will just do the whole month\n",
    "        num_months += 1\n",
    "        \n",
    "    return total / num_months"
   ]
  },
  {
   "cell_type": "code",
   "execution_count": 286,
   "metadata": {},
   "outputs": [],
   "source": [
    "# Calculates the annual emission from Feb 2019 to Jan 2020\n",
    "\n",
    "def get_annual_emissions():\n",
    "    return get_emissions_month_range(\"2019\", 2, 12) + get_emissions_month_range(\"2020\", 1, 1)"
   ]
  },
  {
   "cell_type": "code",
   "execution_count": 287,
   "metadata": {},
   "outputs": [],
   "source": [
    "annual_emissions = get_annual_emissions()"
   ]
  },
  {
   "cell_type": "code",
   "execution_count": 288,
   "metadata": {},
   "outputs": [
    {
     "name": "stdout",
     "output_type": "stream",
     "text": [
      "The total annual emission (Feb 2019 - Jan 2020) in million metric tons per hour (mmT/hr) was 0.0015315443970232276.\n"
     ]
    }
   ],
   "source": [
    "print(\"The total annual emission (Feb 2019 - Jan 2020) in million metric tons per hour (mmT/hr) was \" + str(annual_emissions) + \".\")"
   ]
  }
 ],
 "metadata": {
  "kernelspec": {
   "display_name": "Python 3",
   "language": "python",
   "name": "python3"
  },
  "language_info": {
   "codemirror_mode": {
    "name": "ipython",
    "version": 3
   },
   "file_extension": ".py",
   "mimetype": "text/x-python",
   "name": "python",
   "nbconvert_exporter": "python",
   "pygments_lexer": "ipython3",
   "version": "3.6.2"
  }
 },
 "nbformat": 4,
 "nbformat_minor": 4
}
