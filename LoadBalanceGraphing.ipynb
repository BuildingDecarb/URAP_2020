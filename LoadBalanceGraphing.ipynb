{
 "cells": [
  {
   "cell_type": "code",
   "execution_count": 150,
   "metadata": {},
   "outputs": [],
   "source": [
    "import pandas as pd\n",
    "import numpy as np\n",
    "import matplotlib.pyplot as plt\n",
    "from calendar import monthrange"
   ]
  },
  {
   "cell_type": "code",
   "execution_count": 151,
   "metadata": {},
   "outputs": [],
   "source": [
    "ER_WH_Raw = pd.read_csv(\"LoadHourlyProfileData/ER_WH_HourlyProfiles.csv\", usecols = [0,1,2,3,4,5,6,7,8,9,10,11,12,13,14,15,16])\n",
    "HP_WH_Raw = pd.read_csv(\"LoadHourlyProfileData/HP_WH_HourlyProfiles.csv\", usecols = [0,1,2,3,4,5,6,7,8,9,10,11,12,13,14,15,16])\n",
    "HP_SH_Raw = pd.read_csv(\"LoadHourlyProfileData/HP_SH_HourlyProfiles.csv\", usecols = [0,1,2,3,4,5,6,7,8,9,10,11,12,13,14,15,16])"
   ]
  },
  {
   "cell_type": "code",
   "execution_count": 152,
   "metadata": {},
   "outputs": [],
   "source": [
    "C1_ER_WH = ER_WH_Raw.loc[:, '1'].to_frame()\n",
    "C1_HP_WH = HP_WH_Raw.loc[:, '1'].to_frame()"
   ]
  },
  {
   "cell_type": "code",
   "execution_count": 153,
   "metadata": {},
   "outputs": [],
   "source": [
    "def hours_in_month(month, year):\n",
    "    return monthrange(year, month)[1] * 24"
   ]
  },
  {
   "cell_type": "code",
   "execution_count": 154,
   "metadata": {},
   "outputs": [
    {
     "data": {
      "text/plain": [
       "(0, 743)"
      ]
     },
     "execution_count": 154,
     "metadata": {},
     "output_type": "execute_result"
    }
   ],
   "source": [
    "def hour_bounds_by_month(month, year):\n",
    "    lower_bound = 0\n",
    "    for i in range(1, month):\n",
    "        lower_bound += hours_in_month(i, year)\n",
    "    upper_bound = lower_bound + hours_in_month(month, year) - 1\n",
    "    return (lower_bound, upper_bound)\n",
    "\n",
    "hour_bounds_by_month(1, 2019)"
   ]
  },
  {
   "cell_type": "code",
   "execution_count": 155,
   "metadata": {},
   "outputs": [],
   "source": [
    "temp = HP_SH_Raw.loc[0:743, '1'].to_frame()"
   ]
  },
  {
   "cell_type": "code",
   "execution_count": 156,
   "metadata": {},
   "outputs": [
    {
     "data": {
      "text/plain": [
       "array([0.06835961, 0.        , 0.        , 0.13087252, 0.26772339,\n",
       "       0.15521184, 0.05297329, 0.61936442, 0.98947394, 0.86205077,\n",
       "       0.81120645, 0.22747687, 0.19394523, 0.2142181 , 0.12579306,\n",
       "       0.22832619, 0.23467742, 0.50990032, 0.63488158, 0.49488677,\n",
       "       0.8008559 , 0.52125616, 0.20737   , 0.        ])"
      ]
     },
     "execution_count": 156,
     "metadata": {},
     "output_type": "execute_result"
    }
   ],
   "source": [
    "# find average ER_WH, HP_WH, and HP_SH per month per hour for each climate zone.\n",
    "def average_ER_WH(month, year, climate):  # pass in month and climate as integers\n",
    "    assert climate >= 1 and climate <= 16\n",
    "    assert month >= 1 and month <= 24\n",
    "    \n",
    "    first_hour_of_month = hour_bounds_by_month(month, year)[0]\n",
    "    last_hour_of_month = hour_bounds_by_month(month, year)[1]\n",
    "    climate_ER_WH = ER_WH_Raw.loc[first_hour_of_month:last_hour_of_month, str(climate)].to_frame()\n",
    "    \n",
    "    average_loads = np.zeros(24)\n",
    "    hour_count = 0\n",
    "    for i in climate_ER_WH.values:\n",
    "        if hour_count > 23:\n",
    "            hour_count = 0\n",
    "        \n",
    "        average_loads[hour_count] += i[0]\n",
    "        hour_count += 1\n",
    "            \n",
    "    num_days_in_month = ((last_hour_of_month+1)-first_hour_of_month) / 24\n",
    "    return np.divide(average_loads, num_days_in_month)\n",
    "\n",
    "average_ER_WH(1, 2019, 1)"
   ]
  },
  {
   "cell_type": "code",
   "execution_count": 157,
   "metadata": {},
   "outputs": [
    {
     "data": {
      "text/plain": [
       "array([0.07867739, 0.06948677, 0.05053794, 0.10604677, 0.03019768,\n",
       "       0.05452084, 0.23014384, 0.223172  , 0.15429665, 0.44456319,\n",
       "       0.37526152, 0.28799242, 0.31655329, 0.31865645, 0.10839439,\n",
       "       0.10563061, 0.11229197, 0.19366677, 0.10556426, 0.23730123,\n",
       "       0.40998323, 0.18110742, 0.20123716, 0.14398326])"
      ]
     },
     "execution_count": 157,
     "metadata": {},
     "output_type": "execute_result"
    }
   ],
   "source": [
    "def average_HP_WH(month, year, climate):  # pass in month and climate as integers\n",
    "    assert climate >= 1 and climate <= 16\n",
    "    assert month >= 1 and month <= 24\n",
    "    \n",
    "    first_hour_of_month = hour_bounds_by_month(month, year)[0]\n",
    "    last_hour_of_month = hour_bounds_by_month(month, year)[1]\n",
    "    climate_HP_WH = HP_WH_Raw.loc[first_hour_of_month:last_hour_of_month, str(climate)].to_frame()\n",
    "    \n",
    "    average_loads = np.zeros(24)\n",
    "    hour_count = 0\n",
    "    for i in climate_HP_WH.values:\n",
    "        if hour_count > 23:\n",
    "            hour_count = 0\n",
    "        \n",
    "        average_loads[hour_count] += i[0]\n",
    "        hour_count += 1\n",
    "            \n",
    "    num_days_in_month = ((last_hour_of_month+1)-first_hour_of_month) / 24\n",
    "    return np.divide(average_loads, num_days_in_month)\n",
    "\n",
    "average_HP_WH(1, 2019, 1)"
   ]
  },
  {
   "cell_type": "code",
   "execution_count": 158,
   "metadata": {},
   "outputs": [
    {
     "data": {
      "text/plain": [
       "array([0.49319121, 0.5404939 , 0.58024375, 0.62854391, 0.63583054,\n",
       "       0.61966187, 0.59640531, 0.50746643, 0.36827035, 0.28644284,\n",
       "       0.22278871, 0.16758859, 0.12017975, 0.10169036, 0.0970742 ,\n",
       "       0.10400976, 0.11740099, 0.14208501, 0.16909744, 0.20164476,\n",
       "       0.24263122, 0.2933119 , 0.34866074, 0.41645912])"
      ]
     },
     "execution_count": 158,
     "metadata": {},
     "output_type": "execute_result"
    }
   ],
   "source": [
    "def average_HP_SH(month, year, climate):  # pass in month and climate as integers\n",
    "    assert climate >= 1 and climate <= 16\n",
    "    assert month >= 1 and month <= 24\n",
    "    \n",
    "    first_hour_of_month = hour_bounds_by_month(month, year)[0]\n",
    "    last_hour_of_month = hour_bounds_by_month(month, year)[1]\n",
    "    climate_HP_SH = HP_SH_Raw.loc[first_hour_of_month:last_hour_of_month, str(climate)].to_frame()\n",
    "    \n",
    "    average_loads = np.zeros(24)\n",
    "    hour_count = 0\n",
    "    for i in climate_HP_SH.values:\n",
    "        if hour_count > 23:\n",
    "            hour_count = 0\n",
    "        \n",
    "        average_loads[hour_count] += i[0]\n",
    "        hour_count += 1\n",
    "            \n",
    "    num_days_in_month = ((last_hour_of_month+1)-first_hour_of_month) / 24\n",
    "    return np.divide(average_loads, num_days_in_month)\n",
    "\n",
    "average_HP_SH(1, 2019, 1)"
   ]
  },
  {
   "cell_type": "code",
   "execution_count": 192,
   "metadata": {},
   "outputs": [
    {
     "data": {
      "text/plain": [
       "[<matplotlib.lines.Line2D at 0x11e1258d0>]"
      ]
     },
     "execution_count": 192,
     "metadata": {},
     "output_type": "execute_result"
    },
    {
     "data": {
      "image/png": "[encoded data removed]",
      "text/plain": [
       "<Figure size 432x288 with 1 Axes>"
      ]
     },
     "metadata": {
      "needs_background": "light"
     },
     "output_type": "display_data"
    }
   ],
   "source": [
    "temp = average_HP_SH(7, 2019, 2)\n",
    "plt.plot(temp)"
   ]
  },
  {
   "cell_type": "code",
   "execution_count": 196,
   "metadata": {},
   "outputs": [
    {
     "data": {
      "text/plain": [
       "[<matplotlib.lines.Line2D at 0x11e56b550>]"
      ]
     },
     "execution_count": 196,
     "metadata": {},
     "output_type": "execute_result"
    },
    {
     "data": {
      "image/png": "[encoded data removed]",
      "text/plain": [
       "<Figure size 432x288 with 1 Axes>"
      ]
     },
     "metadata": {
      "needs_background": "light"
     },
     "output_type": "display_data"
    }
   ],
   "source": [
    "temp = average_HP_WH(1, 2019, 7)\n",
    "plt.plot(temp)"
   ]
  },
  {
   "cell_type": "code",
   "execution_count": 195,
   "metadata": {},
   "outputs": [
    {
     "data": {
      "text/plain": [
       "[<matplotlib.lines.Line2D at 0x11e3eb2e8>]"
      ]
     },
     "execution_count": 195,
     "metadata": {},
     "output_type": "execute_result"
    },
    {
     "data": {
      "image/png": "[encoded data removed]",
      "text/plain": [
       "<Figure size 432x288 with 1 Axes>"
      ]
     },
     "metadata": {
      "needs_background": "light"
     },
     "output_type": "display_data"
    }
   ],
   "source": [
    "temp = average_ER_WH(5, 2019, 15)\n",
    "plt.plot(temp)"
   ]
  },
  {
   "cell_type": "code",
   "execution_count": null,
   "metadata": {},
   "outputs": [],
   "source": []
  }
 ],
 "metadata": {
  "kernelspec": {
   "display_name": "Python 3",
   "language": "python",
   "name": "python3"
  },
  "language_info": {
   "codemirror_mode": {
    "name": "ipython",
    "version": 3
   },
   "file_extension": ".py",
   "mimetype": "text/x-python",
   "name": "python",
   "nbconvert_exporter": "python",
   "pygments_lexer": "ipython3",
   "version": "3.7.3"
  }
 },
 "nbformat": 4,
 "nbformat_minor": 2
}
