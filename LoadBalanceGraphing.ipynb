{
 "cells": [
  {
   "cell_type": "code",
   "execution_count": null,
   "metadata": {},
   "outputs": [],
   "source": [
    "import pandas as pd\n",
    "import numpy as np\n",
    "import matplotlib.pyplot as plt\n",
    "import matplotlib.axes as matax\n",
    "from calendar import monthrange"
   ]
  },
  {
   "cell_type": "code",
   "execution_count": null,
   "metadata": {},
   "outputs": [],
   "source": [
    "C1_arcata = pd.read_csv(\"PVCellData/1_Arcata.csv\", skiprows = 17)\n",
    "C1_eureka = pd.read_csv(\"PVCellData/1_Eureka.csv\", skiprows = 17)\n",
    "\n",
    "C2_napa = pd.read_csv(\"PVCellData/2_Napa.csv\", skiprows = 17)\n",
    "C2_sanrafael = pd.read_csv(\"PVCellData/2_SanRafael.csv\", skiprows = 17)\n",
    "\n",
    "C3_oakland = pd.read_csv(\"PVCellData/3_Oakland.csv\", skiprows = 17)\n",
    "C3_redwoodcity = pd.read_csv(\"PVCellData/3_RedwoodCity.csv\", skiprows = 17)\n",
    "C3_sf = pd.read_csv(\"PVCellData/3_SF.csv\", skiprows = 17)\n",
    "\n",
    "C4_gilroy = pd.read_csv(\"PVCellData/4_Gilroy.csv\", skiprows = 17)\n",
    "C4_sanjose = pd.read_csv(\"PVCellData/4_SanJose.csv\", skiprows = 17)\n",
    "C4_sunnyvale = pd.read_csv(\"PVCellData/4_Sunnyvale.csv\", skiprows = 17)\n",
    "\n",
    "C5_santamaria = pd.read_csv(\"PVCellData/5_SantaMaria.csv\", skiprows = 17)\n",
    "C5_slo = pd.read_csv(\"PVCellData/5_SLO.csv\", skiprows = 17)\n",
    "\n",
    "C6_longbeach = pd.read_csv(\"PVCellData/6_LongBeach.csv\", skiprows = 17)\n",
    "C6_santabarbara = pd.read_csv(\"PVCellData/6_SantaBarbara.csv\", skiprows = 17)\n",
    "\n",
    "C7_oceanside = pd.read_csv(\"PVCellData/7_Oceanside.csv\", skiprows = 17)\n",
    "C7_sandiego = pd.read_csv(\"PVCellData/7_SanDiego.csv\", skiprows = 17)\n",
    "\n",
    "C8_anaheim = pd.read_csv(\"PVCellData/8_Anaheim.csv\", skiprows = 17)\n",
    "C8_tustin = pd.read_csv(\"PVCellData/8_Tustin.csv\", skiprows = 17)\n",
    "\n",
    "C9_la = pd.read_csv(\"PVCellData/9_LA.csv\", skiprows = 17)\n",
    "C9_pasadena = pd.read_csv(\"PVCellData/9_Pasadena.csv\", skiprows = 17)\n",
    "\n",
    "C10_riverside = pd.read_csv(\"PVCellData/10_Riverside.csv\", skiprows = 17)\n",
    "C10_sanbernardino = pd.read_csv(\"PVCellData/10_SanBernardino.csv\", skiprows = 17)\n",
    "\n",
    "C11_marysville = pd.read_csv(\"PVCellData/11_Marysville.csv\", skiprows = 17)\n",
    "C11_redbluff = pd.read_csv(\"PVCellData/11_RedBluff.csv\", skiprows = 17)\n",
    "\n",
    "C12_merced = pd.read_csv(\"PVCellData/12_Merced.csv\", skiprows = 17)\n",
    "C12_stockton = pd.read_csv(\"PVCellData/12_Stockton.csv\", skiprows = 17)\n",
    "\n",
    "C13_bakersfield = pd.read_csv(\"PVCellData/13_Bakersfield.csv\", skiprows = 17)\n",
    "C13_fresno = pd.read_csv(\"PVCellData/13_Fresno.csv\", skiprows = 17)\n",
    "\n",
    "C14_29palms = pd.read_csv(\"PVCellData/14_29Palms.csv\", skiprows = 17)\n",
    "C14_barstow = pd.read_csv(\"PVCellData/14_Barstow.csv\", skiprows = 17)\n",
    "\n",
    "C15_blythe = pd.read_csv(\"PVCellData/15_Blythe.csv\", skiprows = 17)\n",
    "C15_needles = pd.read_csv(\"PVCellData/15_Needles.csv\", skiprows = 17)\n",
    "\n",
    "C16_bishop = pd.read_csv(\"PVCellData/16_Bishop.csv\", skiprows = 17)\n",
    "C16_mtshasta = pd.read_csv(\"PVCellData/16_Mtshasta.csv\", skiprows = 17)"
   ]
  },
  {
   "cell_type": "code",
   "execution_count": null,
   "metadata": {},
   "outputs": [],
   "source": [
    "ER_WH_Raw = pd.read_csv(\"LoadHourlyProfileData/ER_WH_HourlyProfiles.csv\", usecols = [0,1,2,3,4,5,6,7,8,9,10,11,12,13,14,15,16])\n",
    "HP_WH_Raw = pd.read_csv(\"LoadHourlyProfileData/HP_WH_HourlyProfiles.csv\", usecols = [0,1,2,3,4,5,6,7,8,9,10,11,12,13,14,15,16])\n",
    "HP_SH_Raw = pd.read_csv(\"LoadHourlyProfileData/HP_SH_HourlyProfiles.csv\", usecols = [0,1,2,3,4,5,6,7,8,9,10,11,12,13,14,15,16])"
   ]
  },
  {
   "cell_type": "code",
   "execution_count": null,
   "metadata": {},
   "outputs": [],
   "source": [
    "C1_ER_WH = ER_WH_Raw.loc[:, '1'].to_frame()\n",
    "C1_HP_WH = HP_WH_Raw.loc[:, '1'].to_frame()"
   ]
  },
  {
   "cell_type": "code",
   "execution_count": null,
   "metadata": {},
   "outputs": [],
   "source": [
    "def hours_in_month(month, year):\n",
    "    return monthrange(year, month)[1] * 24"
   ]
  },
  {
   "cell_type": "code",
   "execution_count": null,
   "metadata": {},
   "outputs": [],
   "source": [
    "def hour_bounds_by_month(month, year):\n",
    "    lower_bound = 0\n",
    "    for i in range(1, month):\n",
    "        lower_bound += hours_in_month(i, year)\n",
    "    upper_bound = lower_bound + hours_in_month(month, year) - 1\n",
    "    return (lower_bound, upper_bound)\n",
    "\n",
    "hour_bounds_by_month(1, 2019)"
   ]
  },
  {
   "cell_type": "code",
   "execution_count": null,
   "metadata": {},
   "outputs": [],
   "source": [
    "temp = HP_SH_Raw.loc[0:743, '1'].to_frame()"
   ]
  },
  {
   "cell_type": "code",
   "execution_count": null,
   "metadata": {},
   "outputs": [],
   "source": [
    "# find average ER_WH, HP_WH, and HP_SH per month per hour for each climate zone.\n",
    "def average_ER_WH(month, year, climate):  # pass in month and climate as integers\n",
    "    assert climate >= 1 and climate <= 16\n",
    "    assert month >= 1 and month <= 24\n",
    "    \n",
    "    first_hour_of_month = hour_bounds_by_month(month, year)[0]\n",
    "    last_hour_of_month = hour_bounds_by_month(month, year)[1]\n",
    "    climate_ER_WH = ER_WH_Raw.loc[first_hour_of_month:last_hour_of_month, str(climate)].to_frame()\n",
    "    \n",
    "    average_loads = np.zeros(24)\n",
    "    hour_count = 0\n",
    "    for i in climate_ER_WH.values:\n",
    "        if hour_count > 23:\n",
    "            hour_count = 0\n",
    "        \n",
    "        average_loads[hour_count] += i[0]\n",
    "        hour_count += 1\n",
    "            \n",
    "    num_days_in_month = ((last_hour_of_month+1)-first_hour_of_month) / 24\n",
    "    return np.divide(average_loads, num_days_in_month)\n",
    "\n",
    "average_ER_WH(1, 2019, 1)"
   ]
  },
  {
   "cell_type": "code",
   "execution_count": null,
   "metadata": {},
   "outputs": [],
   "source": [
    "def average_HP_WH(month, year, climate):  # pass in month and climate as integers\n",
    "    assert climate >= 1 and climate <= 16\n",
    "    assert month >= 1 and month <= 24\n",
    "    \n",
    "    first_hour_of_month = hour_bounds_by_month(month, year)[0]\n",
    "    last_hour_of_month = hour_bounds_by_month(month, year)[1]\n",
    "    climate_HP_WH = HP_WH_Raw.loc[first_hour_of_month:last_hour_of_month, str(climate)].to_frame()\n",
    "    \n",
    "    average_loads = np.zeros(24)\n",
    "    hour_count = 0\n",
    "    for i in climate_HP_WH.values:\n",
    "        if hour_count > 23:\n",
    "            hour_count = 0\n",
    "        \n",
    "        average_loads[hour_count] += i[0]\n",
    "        hour_count += 1\n",
    "            \n",
    "    num_days_in_month = ((last_hour_of_month+1)-first_hour_of_month) / 24\n",
    "    return np.divide(average_loads, num_days_in_month)\n",
    "\n",
    "average_HP_WH(1, 2019, 1)"
   ]
  },
  {
   "cell_type": "code",
   "execution_count": null,
   "metadata": {},
   "outputs": [],
   "source": [
    "def average_HP_SH(month, year, climate):  # pass in month and climate as integers\n",
    "    assert climate >= 1 and climate <= 16\n",
    "    assert month >= 1 and month <= 24\n",
    "    \n",
    "    # first_hour and last_hour are the bounds to pass into HP_SH_Raw to get the hours corresponding to the right month\n",
    "    first_hour_of_month = hour_bounds_by_month(month, year)[0]\n",
    "    last_hour_of_month = hour_bounds_by_month(month, year)[1]\n",
    "    climate_HP_SH = HP_SH_Raw.loc[first_hour_of_month:last_hour_of_month, str(climate)].to_frame()\n",
    "    \n",
    "    average_loads = np.zeros(24)\n",
    "    hour_count = 0\n",
    "    for i in climate_HP_SH.values:\n",
    "        if hour_count > 23:\n",
    "            hour_count = 0\n",
    "        \n",
    "        average_loads[hour_count] += i[0]\n",
    "        hour_count += 1\n",
    "            \n",
    "    num_days_in_month = ((last_hour_of_month+1)-first_hour_of_month) / 24\n",
    "    return np.divide(average_loads, num_days_in_month)\n",
    "\n",
    "average_HP_SH(2, 2019, 1)"
   ]
  },
  {
   "cell_type": "code",
   "execution_count": null,
   "metadata": {},
   "outputs": [],
   "source": [
    "def cumulative_average_SH_and_WH(month, year, climate):\n",
    "    HP_WH_values = average_HP_WH(month, year, climate)\n",
    "    HP_SH_values = average_HP_SH(month, year, climate)\n",
    "    \n",
    "    return np.sum([HP_SH_values, HP_WH_values], axis=0)\n",
    "\n",
    "cumulative_average_SH_and_WH(1, 2019, 1)"
   ]
  },
  {
   "cell_type": "code",
   "execution_count": null,
   "metadata": {},
   "outputs": [],
   "source": [
    "climateDict = {\n",
    "    1 : [C1_arcata, C1_eureka],\n",
    "    2 : [C2_napa, C2_sanrafael],\n",
    "    3 : [C3_oakland, C3_sf],\n",
    "    4 : [C4_gilroy, C4_sanjose],\n",
    "    5 : [C5_santamaria, C5_slo],\n",
    "    6 : [C6_longbeach, C6_santabarbara],\n",
    "    7 : [C7_oceanside, C7_sandiego],\n",
    "    8 : [C8_anaheim, C8_tustin],\n",
    "    9 : [C9_la, C9_pasadena],\n",
    "    10 : [C10_riverside, C10_sanbernardino],\n",
    "    11 : [C11_marysville, C11_redbluff],\n",
    "    12 : [C12_merced, C12_stockton],\n",
    "    13 : [C13_bakersfield, C13_fresno],\n",
    "    14 : [C14_29palms, C14_barstow],\n",
    "    15 : [C15_blythe, C15_needles],\n",
    "    16 : [C16_bishop, C16_mtshasta]\n",
    "}"
   ]
  },
  {
   "cell_type": "code",
   "execution_count": null,
   "metadata": {},
   "outputs": [],
   "source": [
    "def days_in_month(month, year=2019):\n",
    "    return monthrange(year, month)[1]\n"
   ]
  },
  {
   "cell_type": "code",
   "execution_count": null,
   "metadata": {},
   "outputs": [],
   "source": [
    "def averageHourlyKWInMonth(climate, month):\n",
    "    assert climate >= 1 and climate <= 16\n",
    "    assert month >= 1 and month <= 12\n",
    "    hourlyDict = {}\n",
    "    cities = climateDict.get(climate)\n",
    "    days = days_in_month(month)\n",
    "    for city in cities:\n",
    "        monthTable = city[city['Month'] == str(month)]\n",
    "        for hour in range(24):\n",
    "            sumKWH = monthTable[monthTable['Hour'] == str(hour)]['AC System Output (W)'].sum() / 1000\n",
    "            averageKWH = sumKWH / days\n",
    "            hourlyDict[hour] = averageKWH\n",
    "    return hourlyDict\n",
    "\n",
    "averageHourlyKWInMonth(1, 1)"
   ]
  },
  {
   "cell_type": "code",
   "execution_count": null,
   "metadata": {},
   "outputs": [],
   "source": [
    "temp = average_HP_SH(2, 2019, 2)  # month, year, climate\n",
    "plt.ylim(0, 2)  \n",
    "plt.plot(temp)"
   ]
  },
  {
   "cell_type": "code",
   "execution_count": null,
   "metadata": {},
   "outputs": [],
   "source": [
    "temp = average_HP_WH(1, 2019, 14)  # month, year, climate\n",
    "plt.ylim(0, 1)  \n",
    "plt.plot(temp)"
   ]
  },
  {
   "cell_type": "code",
   "execution_count": null,
   "metadata": {
    "scrolled": true
   },
   "outputs": [],
   "source": [
    "temp = average_ER_WH(1, 2019, 14)  # month, year, climate\n",
    "plt.ylim(0, 1)   \n",
    "plt.plot(temp)"
   ]
  },
  {
   "cell_type": "code",
   "execution_count": null,
   "metadata": {},
   "outputs": [],
   "source": [
    "climate_var = 3\n",
    "month_var = 7\n",
    "\n",
    "hourDict = averageHourlyKWInMonth(climate_var, month_var)   # climate, month\n",
    "hourDictKeys = sorted(hourDict.items())\n",
    "x, y = zip(*hourDictKeys)\n",
    "\n",
    "total_SH_WH = cumulative_average_SH_and_WH(month_var, 2019, climate_var)  # month, year, climate\n",
    "\n",
    "avg_HP_SH = average_HP_SH(month_var, 2019, climate_var)  # month, year, climate\n",
    "avg_HP_WH = average_HP_WH(month_var, 2019, climate_var)\n",
    "\n",
    "plt.plot(total_SH_WH, label = \"total_SH_WH\")\n",
    "plt.plot(avg_HP_SH, label = \"avg_HP_SH\")\n",
    "plt.plot(avg_HP_WH, label = \"avg_HP_WH\")\n",
    "plt.plot(x, y, label = \"solar\")\n",
    "plt.legend()\n",
    "plt.show()\n",
    "\n",
    "\n",
    "#demand = np.trapz(total_SH_WH)\n",
    "#supply = np.trapz(list(i[1] for i in hourDict.items()), dx=0.1)\n",
    "#supply"
   ]
  },
  {
   "cell_type": "code",
   "execution_count": null,
   "metadata": {
    "scrolled": true
   },
   "outputs": [],
   "source": [
    "# obtaining the total - poolpump values\n",
    "#pge_0_1_raw \n",
    "#pge_1_2_raw\n",
    "#pge_2_3_raw\n",
    "#pge_3_4_raw\n",
    "#pge_0_1_raw\n",
    "pge_5_6_raw = pd.read_csv(\"AnonymizedData/pge-res-PGFG-res_misc-noKW-nonCare-0.5_0.6.csv\")\n",
    "pge_5_6_raw\n",
    "#pge_5_6_raw['total_minus_poolpump'] = (pge_5_6_raw['total'] - pge_5_6_raw['poolpump'] - pge_5_6_raw['cooling']) / 15142\n"
   ]
  },
  {
   "cell_type": "code",
   "execution_count": null,
   "metadata": {},
   "outputs": [],
   "source": [
    "def average_anonymous_5_6(month, year, ):  # pass in month as integer\n",
    "    assert month >= 1 and month <= 24\n",
    "    \n",
    "    first_hour_of_month = hour_bounds_by_month(month, year)[0]\n",
    "    last_hour_of_month = hour_bounds_by_month(month, year)[1]\n",
    "    pge_5_6 = pge_5_6_raw.loc[first_hour_of_month:last_hour_of_month, 'total_minus_poolpump'].to_frame()\n",
    "    \n",
    "    average_loads = np.zeros(24)\n",
    "    hour_count = 0\n",
    "    for i in pge_5_6.values:\n",
    "        if hour_count > 23:\n",
    "            hour_count = 0\n",
    "        \n",
    "        average_loads[hour_count] += i[0]\n",
    "        hour_count += 1\n",
    "            \n",
    "    num_days_in_month = ((last_hour_of_month+1)-first_hour_of_month) / 24\n",
    "    return np.divide(average_loads, num_days_in_month)\n",
    "\n",
    "average_anonymous_5_6(1, 2019)"
   ]
  },
  {
   "cell_type": "code",
   "execution_count": null,
   "metadata": {},
   "outputs": [],
   "source": [
    "temp1 = average_anonymous_5_6(1, 2019)\n",
    "temp7 = average_anonymous_5_6(7, 2019)  # month, year\n",
    "plt.plot(temp1, label = \"january\")\n",
    "plt.plot(temp7, label = \"july\")\n",
    "plt.legend()\n",
    "plt.show()"
   ]
  },
  {
   "cell_type": "code",
   "execution_count": null,
   "metadata": {},
   "outputs": [],
   "source": []
  },
  {
   "cell_type": "code",
   "execution_count": null,
   "metadata": {},
   "outputs": [],
   "source": []
  },
  {
   "cell_type": "code",
   "execution_count": null,
   "metadata": {},
   "outputs": [],
   "source": []
  },
  {
   "cell_type": "code",
   "execution_count": null,
   "metadata": {},
   "outputs": [],
   "source": []
  },
  {
   "cell_type": "code",
   "execution_count": null,
   "metadata": {},
   "outputs": [],
   "source": []
  }
 ],
 "metadata": {
  "kernelspec": {
   "display_name": "Python 3",
   "language": "python",
   "name": "python3"
  },
  "language_info": {
   "codemirror_mode": {
    "name": "ipython",
    "version": 3
   },
   "file_extension": ".py",
   "mimetype": "text/x-python",
   "name": "python",
   "nbconvert_exporter": "python",
   "pygments_lexer": "ipython3",
   "version": "3.7.3"
  }
 },
 "nbformat": 4,
 "nbformat_minor": 2
}
