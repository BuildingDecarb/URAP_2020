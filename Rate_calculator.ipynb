{
 "cells": [
  {
   "cell_type": "code",
   "execution_count": 59,
   "metadata": {},
   "outputs": [],
   "source": [
    "import csv\n",
    "import numpy as np\n",
    "import pandas as pd\n",
    "\n",
    "\n",
    "class Day:\n",
    "    def __init__(self, use):\n",
    "        self.season = 'summer'\n",
    "        self.weekday = 'weekday'\n",
    "        self.use = use\n",
    "        self.dayuse = sum(self.use)\n",
    "        \n",
    "    def setSeason(self, season):\n",
    "        self.season = season\n",
    "    \n",
    "    def setDay(self, weekday):\n",
    "        self.weekday = weekday"
   ]
  },
  {
   "cell_type": "code",
   "execution_count": 60,
   "metadata": {},
   "outputs": [],
   "source": [
    "customersumm = pd.read_csv('anonymized_1in10_actual_actual_2014_cluster_summary.csv', index_col=1, header=0)\n",
    "\n",
    "filename = 'pge-res-PGFG-res_misc-noKW-nonCare-0.0_0.1' #change to appropriate filename\n",
    "\n",
    "customers = int(customersumm.loc[filename, 'customer_count'])\n",
    "\n",
    "df = pd.read_csv(filename+'.csv', index_col=0)\n",
    "df['total'] = df['total']/customers"
   ]
  },
  {
   "cell_type": "code",
   "execution_count": 61,
   "metadata": {},
   "outputs": [],
   "source": [
    "daylist = []\n",
    "\n",
    "use = []\n",
    "for i in range(1, df.shape[0] + 1):\n",
    "    use.append(float(df.loc[i, 'total']))\n",
    "    if i%24 == 0:\n",
    "        daylist.append(Day(use))\n",
    "        use = []"
   ]
  },
  {
   "cell_type": "code",
   "execution_count": 62,
   "metadata": {},
   "outputs": [
    {
     "name": "stdout",
     "output_type": "stream",
     "text": [
      "190.09162169605474\n",
      "836.048034711316\n",
      "211.5598301073641\n"
     ]
    }
   ],
   "source": [
    "def flat(daylist, price=0.17):\n",
    "    totaluse = 0\n",
    "    for day in daylist:\n",
    "        totaluse = totaluse + day.dayuse\n",
    "    return totaluse * price\n",
    "\n",
    "\n",
    "def tier(daylist, baseline=15, tier1=0.22376, tier2=0.28159, tier3=0.49334):\n",
    "    # https://www.pge.com/tariffs/assets/pdf/tariffbook/ELEC_SCHEDS_E-1.pdf\n",
    "    totaluse = 0\n",
    "    for day in daylist:\n",
    "        totaluse = totaluse + day.dayuse\n",
    "    return min(baseline, totaluse) * tier1 + max(0, totaluse - baseline) * tier2 + max(0, totaluse - 4*baseline) * tier3\n",
    "\n",
    "\n",
    "def tou(daylist, speak=0.25354, soffpeak=0.20657, wpeak=0.18022, woffpeak=0.17133):\n",
    "    # https://www.pge.com/tariffs/assets/pdf/tariffbook/ELEC_SCHEDS_EL-TOU.pdf\n",
    "    speaksum = 0\n",
    "    soffpeaksum = 0\n",
    "    wpeaksum = 0\n",
    "    woffpeaksum = 0\n",
    "    for day in daylist:\n",
    "        if day.season == \"summer\":\n",
    "            if day.weekday == \"weekday\":\n",
    "                speaksum = speaksum + sum(day.use[15:20])\n",
    "                soffpeaksum = soffpeaksum + sum(day.use[0:14]) + sum(day.use[21:23])\n",
    "            else:\n",
    "                soffpeaksum = soffpeaksum + sum(day.use)\n",
    "        else:\n",
    "            if day.weekday == \"weekday\":\n",
    "                wpeaksum = wpeaksum + sum(day.use[15:20])\n",
    "                woffpeaksum = woffpeaksum + sum(day.use[0:14]) + sum(day.use[21:23])\n",
    "            else:\n",
    "                woffpeaksum = woffpeaksum + day.dayuse\n",
    "    return speaksum * speak + soffpeaksum * soffpeak + wpeaksum * wpeak + woffpeaksum * woffpeak\n",
    "\n",
    "\n",
    "print(flat(daylist))\n",
    "print(tier(daylist))\n",
    "print(tou(daylist))"
   ]
  }
 ],
 "metadata": {
  "kernelspec": {
   "display_name": "Python 3",
   "language": "python",
   "name": "python3"
  },
  "language_info": {
   "codemirror_mode": {
    "name": "ipython",
    "version": 3
   },
   "file_extension": ".py",
   "mimetype": "text/x-python",
   "name": "python",
   "nbconvert_exporter": "python",
   "pygments_lexer": "ipython3",
   "version": "3.7.3"
  }
 },
 "nbformat": 4,
 "nbformat_minor": 2
}
